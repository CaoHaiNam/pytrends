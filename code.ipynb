{
 "cells": [
  {
   "cell_type": "code",
   "execution_count": null,
   "metadata": {},
   "outputs": [],
   "source": []
  },
  {
   "cell_type": "code",
   "execution_count": 2,
   "metadata": {},
   "outputs": [],
   "source": [
    "import pytrends\n",
    "from urllib.parse import quote\n",
    "import pandas as pd \n",
    "from pytrends.request import TrendReq"
   ]
  },
  {
   "cell_type": "code",
   "execution_count": 3,
   "metadata": {},
   "outputs": [],
   "source": [
    "hl = 'vi'\n",
    "geo = 'VN'\n",
    "# timezone = 7*60\n",
    "timezone = 420"
   ]
  },
  {
   "cell_type": "code",
   "execution_count": 4,
   "metadata": {},
   "outputs": [],
   "source": [
    "pytrend_ins = TrendReq(hl=hl, \n",
    "                       tz=timezone, \n",
    "                       geo=geo,\n",
    "                       proxies=[], \n",
    "                        )"
   ]
  },
  {
   "cell_type": "code",
   "execution_count": 17,
   "metadata": {},
   "outputs": [],
   "source": [
    "# kw_list = [\"Mbappe\"]\n",
    "# pytrend_ins.build_payload(kw_list, \n",
    "#                           cat=0, \n",
    "#                           timeframe='now 7-d', \n",
    "#                           geo=geo, \n",
    "#                           gprop='news')"
   ]
  },
  {
   "cell_type": "code",
   "execution_count": 5,
   "metadata": {},
   "outputs": [],
   "source": [
    "# keyword = 'điểm chuẩn vào 10'\n",
    "# keyword = 'Mbappe'\n",
    "# keyword = 'kem trị mụn'\n",
    "# keyword = 'kem trị mụn'\n",
    "# suggestions_dict = pytrend_ins.suggestions(keyword=keyword)\n",
    "# print(suggestions_dict)\n"
   ]
  },
  {
   "cell_type": "code",
   "execution_count": 6,
   "metadata": {},
   "outputs": [],
   "source": [
    "# [i['title'] for i in suggestions_dict]"
   ]
  },
  {
   "cell_type": "code",
   "execution_count": 10,
   "metadata": {},
   "outputs": [],
   "source": [
    "kw_list=['trị mụn',\n",
    "        'trị mụn thâm', \n",
    "        'trị mụn đỏ', \n",
    "        'bác sĩ trị mụn', \n",
    "        'derma forte'\n",
    "        ]\n",
    "pytrend_ins.build_payload(kw_list, \n",
    "                          cat=0, \n",
    "                          timeframe='now 7-d', \n",
    "                          geo=geo, \n",
    "                          gprop='',\n",
    "                          )"
   ]
  },
  {
   "cell_type": "code",
   "execution_count": 21,
   "metadata": {},
   "outputs": [],
   "source": [
    "# related_queries_dict = pytrend_ins.related_queries()\n",
    "# print(related_queries_dict)"
   ]
  },
  {
   "cell_type": "code",
   "execution_count": 11,
   "metadata": {},
   "outputs": [],
   "source": [
    "df = pytrend_ins.interest_over_time()"
   ]
  },
  {
   "cell_type": "code",
   "execution_count": 13,
   "metadata": {},
   "outputs": [
    {
     "data": {
      "text/plain": [
       "{'trị mụn': 9814,\n",
       " 'trị mụn thâm': 1186,\n",
       " 'trị mụn đỏ': 254,\n",
       " 'bác sĩ trị mụn': 126,\n",
       " 'derma forte': 297,\n",
       " 'isPartial': 1}"
      ]
     },
     "execution_count": 13,
     "metadata": {},
     "output_type": "execute_result"
    }
   ],
   "source": [
    "df.sum().to_dict()"
   ]
  },
  {
   "cell_type": "code",
   "execution_count": null,
   "metadata": {},
   "outputs": [],
   "source": []
  },
  {
   "cell_type": "code",
   "execution_count": null,
   "metadata": {},
   "outputs": [],
   "source": [
    "BASE_TRENDS_URL = 'https://trends.google.com/trends'\n",
    "\n",
    "GET_METHOD = 'get'\n",
    "POST_METHOD = 'post'\n",
    "GENERAL_URL = f'{BASE_TRENDS_URL}/api/explore'\n",
    "INTEREST_OVER_TIME_URL = f'{BASE_TRENDS_URL}/api/widgetdata/multiline'\n",
    "MULTIRANGE_INTEREST_OVER_TIME_URL = f'{BASE_TRENDS_URL}/api/widgetdata/multirange'\n",
    "INTEREST_BY_REGION_URL = f'{BASE_TRENDS_URL}/api/widgetdata/comparedgeo'\n",
    "RELATED_QUERIES_URL = f'{BASE_TRENDS_URL}/api/widgetdata/relatedsearches'\n",
    "TRENDING_SEARCHES_URL = f'{BASE_TRENDS_URL}/hottrends/visualize/internal/data'\n",
    "TOP_CHARTS_URL = f'{BASE_TRENDS_URL}/api/topcharts'\n",
    "SUGGESTIONS_URL = f'{BASE_TRENDS_URL}/api/autocomplete/'\n",
    "CATEGORIES_URL = f'{BASE_TRENDS_URL}/api/explore/pickers/category'\n",
    "TODAY_SEARCHES_URL = f'{BASE_TRENDS_URL}/api/dailytrends'\n",
    "REALTIME_TRENDING_SEARCHES_URL = f'{BASE_TRENDS_URL}/api/realtimetrends'\n",
    "ERROR_CODES = (500, 502, 504, 429)"
   ]
  },
  {
   "cell_type": "code",
   "execution_count": null,
   "metadata": {},
   "outputs": [],
   "source": [
    "def suggestions(self, keyword):\n",
    "    \"\"\"Request data from Google's Keyword Suggestion dropdown and return a dictionary\"\"\"\n",
    "\n",
    "    # make the request\n",
    "    kw_param = quote(keyword)\n",
    "    parameters = {'hl': self.hl}\n",
    "    print(self.hl)\n",
    "    req_json = self._get_data(\n",
    "        url=TrendReq.SUGGESTIONS_URL + kw_param,\n",
    "        params=parameters,\n",
    "        method=TrendReq.GET_METHOD,\n",
    "        trim_chars=5\n",
    "    )['default']['topics']\n",
    "    return req_json"
   ]
  }
 ],
 "metadata": {
  "kernelspec": {
   "display_name": "Python 3",
   "language": "python",
   "name": "python3"
  },
  "language_info": {
   "codemirror_mode": {
    "name": "ipython",
    "version": 3
   },
   "file_extension": ".py",
   "mimetype": "text/x-python",
   "name": "python",
   "nbconvert_exporter": "python",
   "pygments_lexer": "ipython3",
   "version": "3.9.6"
  },
  "orig_nbformat": 4
 },
 "nbformat": 4,
 "nbformat_minor": 2
}
